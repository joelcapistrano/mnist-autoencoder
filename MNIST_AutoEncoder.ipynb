{
  "nbformat": 4,
  "nbformat_minor": 0,
  "metadata": {
    "colab": {
      "name": "MNIST-AutoEncoder",
      "provenance": [],
      "collapsed_sections": [],
      "include_colab_link": true
    },
    "kernelspec": {
      "name": "python3",
      "display_name": "Python 3"
    },
    "accelerator": "GPU"
  },
  "cells": [
    {
      "cell_type": "markdown",
      "metadata": {
        "id": "view-in-github",
        "colab_type": "text"
      },
      "source": [
        "<a href=\"https://colab.research.google.com/github/joelcapistrano/mnist-autoencoder/blob/master/MNIST_AutoEncoder.ipynb\" target=\"_parent\"><img src=\"https://colab.research.google.com/assets/colab-badge.svg\" alt=\"Open In Colab\"/></a>"
      ]
    },
    {
      "cell_type": "markdown",
      "metadata": {
        "id": "4H7czfn-zdZH",
        "colab_type": "text"
      },
      "source": [
        "# Image Restoration using Autoencoders\n",
        "Restoring Autoencoder for MNIST.\n",
        "\n",
        "Input: Input data is an MNIST image corrupted by a white square of at most 25% of the image area\n",
        "\n",
        "Output: Restored MNIST image w/o the corrupting white square."
      ]
    },
    {
      "cell_type": "code",
      "metadata": {
        "id": "x-gx57rcxVYq",
        "colab_type": "code",
        "colab": {}
      },
      "source": [
        "from keras.layers import Dense, Input\n",
        "from keras.layers import Conv2D, Flatten\n",
        "from keras.layers import Reshape, Conv2DTranspose\n",
        "from keras.models import Model\n",
        "from keras import backend as K\n",
        "from keras.datasets import mnist\n",
        "import numpy as np\n",
        "import matplotlib.pyplot as plt\n",
        "from PIL import Image\n",
        "from pylab import rcParams"
      ],
      "execution_count": 0,
      "outputs": []
    },
    {
      "cell_type": "markdown",
      "metadata": {
        "id": "Zbj72cTqRw3O",
        "colab_type": "text"
      },
      "source": [
        "Load MNIST dataset excluding the labels (images only). Reshape images to (28,28,1) and normalize."
      ]
    },
    {
      "cell_type": "code",
      "metadata": {
        "id": "tDYzpr7t2T1O",
        "colab_type": "code",
        "colab": {}
      },
      "source": [
        "# Load MNIST dataset\n",
        "(x_train, _), (x_test, _) = mnist.load_data()\n",
        "\n",
        "# Reshape images to (28, 28, 1) and normalize\n",
        "image_size = x_train.shape[1]\n",
        "x_train = np.reshape(x_train, [-1, image_size, image_size, 1])\n",
        "x_test = np.reshape(x_test, [-1, image_size, image_size, 1])\n",
        "x_train = x_train.astype('float32') / 255\n",
        "x_test = x_test.astype('float32') / 255"
      ],
      "execution_count": 0,
      "outputs": []
    },
    {
      "cell_type": "markdown",
      "metadata": {
        "id": "KJjibQR2RmTA",
        "colab_type": "text"
      },
      "source": [
        "A function that generates corrupted images is created.\n",
        "\n",
        "An image is corrupted by placing a white square on the original  image. The area of white square follows a uniform distribution over [6.25, 25] percent of the image area, i.e. the dimension of the square should be sampled from S = [7,14] pixels.\n",
        "\n",
        "Position of white square is randomly chosen. The x- and y-coordinates of the top-left corner are independently sampled from a uniform distribution over [0, 28 - S], where S is the length of the white square's side.\n",
        "\n",
        "NumPy's random.randit() allows for random selection of an integer from a set of integers that follows a uniform distribution."
      ]
    },
    {
      "cell_type": "code",
      "metadata": {
        "id": "BkfKbHdsZMLw",
        "colab_type": "code",
        "colab": {}
      },
      "source": [
        "x_train_corrupted = x_train.copy()\n",
        "x_test_corrupted = x_test.copy()\n",
        "\n",
        "def corrupt(image_set):\n",
        "  for each_image in image_set:\n",
        "    each_image = each_image.reshape(28,28)\n",
        "    # Set white square dimension by randomly selecting an integer from 7 to 14 following a uniform distribution\n",
        "    n = np.random.randint(7,14)\n",
        "    # Make white square\n",
        "    white_square = np.array([1]*n*n).reshape(n,n)\n",
        "    # Set white square coordinates by randomly selecting a pair of integers from 0 to 28 following a uniform distribution\n",
        "    x = np.random.randint(0,28-n)\n",
        "    y = np.random.randint(0,28-n)\n",
        "    # Add white square to the image\n",
        "    each_image[x:x+n, y:y+n] = white_square\n",
        "  return image_set\n",
        "\n",
        "x_train_corrupted = corrupt(x_train_corrupted)\n",
        "x_test_corrupted = corrupt(x_test_corrupted)"
      ],
      "execution_count": 0,
      "outputs": []
    },
    {
      "cell_type": "markdown",
      "metadata": {
        "id": "Oke78BPebZNT",
        "colab_type": "text"
      },
      "source": [
        "Ten samples from the original image set (first row) and the corresponding corrupted image set (second row) are shown below."
      ]
    },
    {
      "cell_type": "code",
      "metadata": {
        "id": "PNvnHz5ea1il",
        "colab_type": "code",
        "colab": {
          "base_uri": "https://localhost:8080/",
          "height": 139
        },
        "outputId": "dd747c88-52ea-42d5-87bc-e27d4d6aaadd"
      },
      "source": [
        "rcParams['figure.figsize'] = 10,10\n",
        "\n",
        "# Show 10 samples from the original image set\n",
        "for i in range(10):\n",
        "    plt.subplot(1, 10, i+1)\n",
        "    plt.imshow(x_train[i].reshape(28,28),cmap='gray')\n",
        "    plt.axis('off')\n",
        "plt.show()\n",
        "# Show corresponding corrupted image set\n",
        "for i in range(10):\n",
        "    plt.subplot(1, 10, i+1)\n",
        "    plt.imshow(x_train_corrupted[i].reshape(28,28),cmap='gray')\n",
        "    plt.axis('off')\n",
        "plt.show()"
      ],
      "execution_count": 4,
      "outputs": [
        {
          "output_type": "display_data",
          "data": {
            "image/png": "[encoded data removed]",
            "text/plain": [
              "<Figure size 720x720 with 10 Axes>"
            ]
          },
          "metadata": {
            "tags": []
          }
        },
        {
          "output_type": "display_data",
          "data": {
            "image/png": "[encoded data removed]",
            "text/plain": [
              "<Figure size 720x720 with 10 Axes>"
            ]
          },
          "metadata": {
            "tags": []
          }
        }
      ]
    },
    {
      "cell_type": "markdown",
      "metadata": {
        "id": "EERrv4bbci9F",
        "colab_type": "text"
      },
      "source": [
        "Set network parameters for the Encoder & Decoder models.\n",
        "\n",
        "Various levels of latent size (dimension) were tested, and `latent_dim = 128` have the best Classifier & SSIM Scores.\n",
        "This is a step back from `latent_dim = 256` since overfitting became apparent (i.e. Classifier Score started to decrease)."
      ]
    },
    {
      "cell_type": "code",
      "metadata": {
        "id": "1cFMIARmyQ4-",
        "colab_type": "code",
        "colab": {}
      },
      "source": [
        "# Set parameters for CNN\n",
        "input_shape = (image_size, image_size, 1)\n",
        "batch_size = 32\n",
        "kernel_size = 3\n",
        "#latent_dim = 16 # Classifier Score: 93.73, SSIM Score: 89.23\n",
        "#latent_dim = 32 # Classifier Score: 96.21, SSIM Score: 94.08\n",
        "#latent_dim = 64 # Classifier Score: 96.89, SSIM Score: 96.55\n",
        "latent_dim = 128 # Classifier Score: 97.08, SSIM Score: 96.97\n",
        "#latent_dim = 256 # Classifier Score: 96.91, SSIM Score: 97.20\n",
        "\n",
        "\n",
        "# Number of CNN layers and filters per layer\n",
        "layer_filters = [32, 64]"
      ],
      "execution_count": 0,
      "outputs": []
    },
    {
      "cell_type": "markdown",
      "metadata": {
        "id": "flDPO4zZh5dM",
        "colab_type": "text"
      },
      "source": [
        "The Encoder model is created and visualized below.\n",
        "\n",
        "The Encoder model uses a series of Convolutional layers to encode an image into a fixed length vector that represents the image a compact form."
      ]
    },
    {
      "cell_type": "code",
      "metadata": {
        "id": "eZRZ44uEyXDL",
        "colab_type": "code",
        "outputId": "eb3bb0e7-0d43-41b1-cf56-d1f6601cf36a",
        "colab": {
          "base_uri": "https://localhost:8080/",
          "height": 440
        }
      },
      "source": [
        "inputs = Input(shape=input_shape, name='encoder_input')\n",
        "x = inputs\n",
        "\n",
        "# Stack of Conv2D(32)-Conv2D(64)\n",
        "for filters in layer_filters:\n",
        "    x = Conv2D(filters=filters,\n",
        "               kernel_size=kernel_size,\n",
        "               strides=2,\n",
        "               activation='relu',\n",
        "               padding='same')(x)\n",
        "\n",
        "# Shape info for the Decoder model\n",
        "# Shape is (7, 7, 64) which can be processed by the Decoder back to (28, 28, 1)\n",
        "shape = K.int_shape(x)\n",
        "\n",
        "# Generate latent vector\n",
        "x = Flatten()(x)\n",
        "latent = Dense(latent_dim, name='latent_vector')(x)\n",
        "\n",
        "# Instantiate Encoder model\n",
        "encoder = Model(inputs, latent, name='encoder')\n",
        "\n",
        "# Show Encoder model visualization\n",
        "encoder.summary()"
      ],
      "execution_count": 6,
      "outputs": [
        {
          "output_type": "stream",
          "text": [
            "WARNING:tensorflow:From /usr/local/lib/python3.6/dist-packages/keras/backend/tensorflow_backend.py:541: The name tf.placeholder is deprecated. Please use tf.compat.v1.placeholder instead.\n",
            "\n",
            "WARNING:tensorflow:From /usr/local/lib/python3.6/dist-packages/keras/backend/tensorflow_backend.py:66: The name tf.get_default_graph is deprecated. Please use tf.compat.v1.get_default_graph instead.\n",
            "\n",
            "WARNING:tensorflow:From /usr/local/lib/python3.6/dist-packages/keras/backend/tensorflow_backend.py:4432: The name tf.random_uniform is deprecated. Please use tf.random.uniform instead.\n",
            "\n",
            "Model: \"encoder\"\n",
            "_________________________________________________________________\n",
            "Layer (type)                 Output Shape              Param #   \n",
            "=================================================================\n",
            "encoder_input (InputLayer)   (None, 28, 28, 1)         0         \n",
            "_________________________________________________________________\n",
            "conv2d_1 (Conv2D)            (None, 14, 14, 32)        320       \n",
            "_________________________________________________________________\n",
            "conv2d_2 (Conv2D)            (None, 7, 7, 64)          18496     \n",
            "_________________________________________________________________\n",
            "flatten_1 (Flatten)          (None, 3136)              0         \n",
            "_________________________________________________________________\n",
            "latent_vector (Dense)        (None, 128)               401536    \n",
            "=================================================================\n",
            "Total params: 420,352\n",
            "Trainable params: 420,352\n",
            "Non-trainable params: 0\n",
            "_________________________________________________________________\n"
          ],
          "name": "stdout"
        }
      ]
    },
    {
      "cell_type": "markdown",
      "metadata": {
        "id": "3wGJtc7idNU-",
        "colab_type": "text"
      },
      "source": [
        "The Decoder model is created and visualized below.\n",
        "\n",
        "The Decoder model uses Dense and Convolutional layers to convert the latent representation vector back into that same image or another modified image."
      ]
    },
    {
      "cell_type": "code",
      "metadata": {
        "id": "vbuMm5S8yqI9",
        "colab_type": "code",
        "outputId": "b3c0e1a1-1d81-4da0-e328-bfb9d2184845",
        "colab": {
          "base_uri": "https://localhost:8080/",
          "height": 353
        }
      },
      "source": [
        "latent_inputs = Input(shape=(latent_dim,), name='decoder_input')\n",
        "\n",
        "x = Dense(shape[1] * shape[2] * shape[3])(latent_inputs)\n",
        "\n",
        "x = Reshape((shape[1], shape[2], shape[3]))(x)\n",
        "\n",
        "# Stack of Conv2DTranspose(64)-Conv2DTranspose(32)\n",
        "for filters in layer_filters[::-1]:\n",
        "    x = Conv2DTranspose(filters=filters,\n",
        "                        kernel_size=kernel_size,\n",
        "                        strides=2,\n",
        "                        activation='relu',\n",
        "                        padding='same')(x)\n",
        "\n",
        "# Reconstruct the denoised input\n",
        "outputs = Conv2DTranspose(filters=1,\n",
        "                          kernel_size=kernel_size,\n",
        "                          padding='same',\n",
        "                          activation='sigmoid',\n",
        "                          name='decoder_output')(x)\n",
        "\n",
        "# Instantiate Decoder model\n",
        "decoder = Model(latent_inputs, outputs, name='decoder')\n",
        "\n",
        "# Show Decoder model visualization\n",
        "decoder.summary()"
      ],
      "execution_count": 7,
      "outputs": [
        {
          "output_type": "stream",
          "text": [
            "Model: \"decoder\"\n",
            "_________________________________________________________________\n",
            "Layer (type)                 Output Shape              Param #   \n",
            "=================================================================\n",
            "decoder_input (InputLayer)   (None, 128)               0         \n",
            "_________________________________________________________________\n",
            "dense_1 (Dense)              (None, 3136)              404544    \n",
            "_________________________________________________________________\n",
            "reshape_1 (Reshape)          (None, 7, 7, 64)          0         \n",
            "_________________________________________________________________\n",
            "conv2d_transpose_1 (Conv2DTr (None, 14, 14, 64)        36928     \n",
            "_________________________________________________________________\n",
            "conv2d_transpose_2 (Conv2DTr (None, 28, 28, 32)        18464     \n",
            "_________________________________________________________________\n",
            "decoder_output (Conv2DTransp (None, 28, 28, 1)         289       \n",
            "=================================================================\n",
            "Total params: 460,225\n",
            "Trainable params: 460,225\n",
            "Non-trainable params: 0\n",
            "_________________________________________________________________\n"
          ],
          "name": "stdout"
        }
      ]
    },
    {
      "cell_type": "markdown",
      "metadata": {
        "id": "mG84LbkwdYEI",
        "colab_type": "text"
      },
      "source": [
        "Build the AutoEncoder model by combining the Encoder & Decoder models."
      ]
    },
    {
      "cell_type": "code",
      "metadata": {
        "id": "V2_UvohTyv0t",
        "colab_type": "code",
        "outputId": "48f30f89-a12b-4bca-db6f-9f760731abf3",
        "colab": {
          "base_uri": "https://localhost:8080/",
          "height": 286
        }
      },
      "source": [
        "# Instantiate AutoEncoder model\n",
        "autoencoder = Model(inputs, decoder(encoder(inputs)), name='autoencoder')\n",
        "\n",
        "# Mean Square Error (MSE) loss function, Adam optimizer\n",
        "autoencoder.compile(loss='mse', optimizer='adam')\n",
        "\n",
        "# Show AutoEncoder model visualization\n",
        "autoencoder.summary()"
      ],
      "execution_count": 8,
      "outputs": [
        {
          "output_type": "stream",
          "text": [
            "WARNING:tensorflow:From /usr/local/lib/python3.6/dist-packages/keras/optimizers.py:793: The name tf.train.Optimizer is deprecated. Please use tf.compat.v1.train.Optimizer instead.\n",
            "\n",
            "Model: \"autoencoder\"\n",
            "_________________________________________________________________\n",
            "Layer (type)                 Output Shape              Param #   \n",
            "=================================================================\n",
            "encoder_input (InputLayer)   (None, 28, 28, 1)         0         \n",
            "_________________________________________________________________\n",
            "encoder (Model)              (None, 128)               420352    \n",
            "_________________________________________________________________\n",
            "decoder (Model)              (None, 28, 28, 1)         460225    \n",
            "=================================================================\n",
            "Total params: 880,577\n",
            "Trainable params: 880,577\n",
            "Non-trainable params: 0\n",
            "_________________________________________________________________\n"
          ],
          "name": "stdout"
        }
      ]
    },
    {
      "cell_type": "markdown",
      "metadata": {
        "id": "4AO8A9IIdauG",
        "colab_type": "text"
      },
      "source": [
        "Train the AutoEncoder model and store lossess/metrics per epoch in `train_history`."
      ]
    },
    {
      "cell_type": "code",
      "metadata": {
        "id": "tnnbg1sXy1Z9",
        "colab_type": "code",
        "outputId": "f0b7cd34-c7e9-49fc-a179-347b6c4ba6c9",
        "colab": {
          "base_uri": "https://localhost:8080/",
          "height": 658
        }
      },
      "source": [
        "# train the autoencoder\n",
        "train_history = autoencoder.fit(x_train_corrupted, x_train,\n",
        "                validation_data=(x_test_corrupted, x_test),\n",
        "                epochs=10,\n",
        "                batch_size=batch_size)\n"
      ],
      "execution_count": 9,
      "outputs": [
        {
          "output_type": "stream",
          "text": [
            "WARNING:tensorflow:From /usr/local/lib/python3.6/dist-packages/keras/backend/tensorflow_backend.py:1033: The name tf.assign_add is deprecated. Please use tf.compat.v1.assign_add instead.\n",
            "\n",
            "WARNING:tensorflow:From /usr/local/lib/python3.6/dist-packages/keras/backend/tensorflow_backend.py:1020: The name tf.assign is deprecated. Please use tf.compat.v1.assign instead.\n",
            "\n",
            "WARNING:tensorflow:From /usr/local/lib/python3.6/dist-packages/keras/backend/tensorflow_backend.py:3005: The name tf.Session is deprecated. Please use tf.compat.v1.Session instead.\n",
            "\n",
            "Train on 60000 samples, validate on 10000 samples\n",
            "Epoch 1/10\n",
            "WARNING:tensorflow:From /usr/local/lib/python3.6/dist-packages/keras/backend/tensorflow_backend.py:190: The name tf.get_default_session is deprecated. Please use tf.compat.v1.get_default_session instead.\n",
            "\n",
            "WARNING:tensorflow:From /usr/local/lib/python3.6/dist-packages/keras/backend/tensorflow_backend.py:197: The name tf.ConfigProto is deprecated. Please use tf.compat.v1.ConfigProto instead.\n",
            "\n",
            "WARNING:tensorflow:From /usr/local/lib/python3.6/dist-packages/keras/backend/tensorflow_backend.py:207: The name tf.global_variables is deprecated. Please use tf.compat.v1.global_variables instead.\n",
            "\n",
            "WARNING:tensorflow:From /usr/local/lib/python3.6/dist-packages/keras/backend/tensorflow_backend.py:216: The name tf.is_variable_initialized is deprecated. Please use tf.compat.v1.is_variable_initialized instead.\n",
            "\n",
            "WARNING:tensorflow:From /usr/local/lib/python3.6/dist-packages/keras/backend/tensorflow_backend.py:223: The name tf.variables_initializer is deprecated. Please use tf.compat.v1.variables_initializer instead.\n",
            "\n",
            "60000/60000 [==============================] - 27s 448us/step - loss: 0.0259 - val_loss: 0.0132\n",
            "Epoch 2/10\n",
            "60000/60000 [==============================] - 25s 411us/step - loss: 0.0120 - val_loss: 0.0112\n",
            "Epoch 3/10\n",
            "60000/60000 [==============================] - 24s 407us/step - loss: 0.0105 - val_loss: 0.0103\n",
            "Epoch 4/10\n",
            "60000/60000 [==============================] - 24s 407us/step - loss: 0.0095 - val_loss: 0.0098\n",
            "Epoch 5/10\n",
            "60000/60000 [==============================] - 24s 407us/step - loss: 0.0089 - val_loss: 0.0093\n",
            "Epoch 6/10\n",
            "60000/60000 [==============================] - 25s 409us/step - loss: 0.0084 - val_loss: 0.0093\n",
            "Epoch 7/10\n",
            "60000/60000 [==============================] - 24s 406us/step - loss: 0.0080 - val_loss: 0.0089\n",
            "Epoch 8/10\n",
            "60000/60000 [==============================] - 25s 410us/step - loss: 0.0077 - val_loss: 0.0088\n",
            "Epoch 9/10\n",
            "60000/60000 [==============================] - 25s 415us/step - loss: 0.0074 - val_loss: 0.0087\n",
            "Epoch 10/10\n",
            "60000/60000 [==============================] - 24s 406us/step - loss: 0.0071 - val_loss: 0.0086\n"
          ],
          "name": "stdout"
        }
      ]
    },
    {
      "cell_type": "markdown",
      "metadata": {
        "id": "htox0JwVm29T",
        "colab_type": "text"
      },
      "source": [
        "Visualize losses per epoch during the AutoEncoder model training."
      ]
    },
    {
      "cell_type": "code",
      "metadata": {
        "id": "mXJdi3vTzMvR",
        "colab_type": "code",
        "colab": {
          "base_uri": "https://localhost:8080/",
          "height": 621
        },
        "outputId": "d02bce19-71fc-470c-8e45-4f8049910e94"
      },
      "source": [
        "plt.plot(train_history.history['loss'])\n",
        "plt.plot(train_history.history['val_loss'])\n",
        "plt.title('model loss')\n",
        "plt.ylabel('loss')\n",
        "plt.xlabel('epoch')\n",
        "plt.legend(['train', 'test'], loc='upper left')\n",
        "plt.show()"
      ],
      "execution_count": 10,
      "outputs": [
        {
          "output_type": "display_data",
          "data": {
            "image/png": "[encoded data removed]",
            "text/plain": [
              "<Figure size 720x720 with 1 Axes>"
            ]
          },
          "metadata": {
            "tags": []
          }
        }
      ]
    },
    {
      "cell_type": "markdown",
      "metadata": {
        "id": "SxvfQFO_nqts",
        "colab_type": "text"
      },
      "source": [
        "Use the AutoEncoder to restore a set of corrupted images (`x_test_corrupted`).\n",
        "\n",
        "Ten samples of the corrupted images (first row), restored images (second row), and the original image (third row) are shown below."
      ]
    },
    {
      "cell_type": "code",
      "metadata": {
        "id": "iXbBGtnty9H6",
        "colab_type": "code",
        "outputId": "08e09e61-34cd-44dd-ab94-a77c54cbc1e9",
        "colab": {
          "base_uri": "https://localhost:8080/",
          "height": 200
        }
      },
      "source": [
        "x_decoded = autoencoder.predict(x_test_corrupted)\n",
        "\n",
        "rcParams['figure.figsize'] = 10,10\n",
        "\n",
        "# Show corrupted images\n",
        "for i in range(10):\n",
        "    plt.subplot(1, 10, i+1)\n",
        "    plt.imshow(x_test_corrupted[i].reshape(28,28),cmap='gray')\n",
        "    plt.axis('off')\n",
        "plt.show()\n",
        "# Show restored images\n",
        "for i in range(10):\n",
        "    plt.subplot(1, 10, i+1)\n",
        "    plt.imshow(x_decoded[i].reshape(28,28),cmap='gray')\n",
        "    plt.axis('off')\n",
        "plt.show()\n",
        "# Show original images\n",
        "for i in range(10):\n",
        "    plt.subplot(1, 10, i+1)\n",
        "    plt.imshow(x_test[i].reshape(28,28),cmap='gray')\n",
        "    plt.axis('off')\n",
        "plt.show()"
      ],
      "execution_count": 11,
      "outputs": [
        {
          "output_type": "display_data",
          "data": {
            "image/png": "[encoded data removed]",
            "text/plain": [
              "<Figure size 720x720 with 10 Axes>"
            ]
          },
          "metadata": {
            "tags": []
          }
        },
        {
          "output_type": "display_data",
          "data": {
            "image/png": "[encoded data removed]",
            "text/plain": [
              "<Figure size 720x720 with 10 Axes>"
            ]
          },
          "metadata": {
            "tags": []
          }
        },
        {
          "output_type": "display_data",
          "data": {
            "image/png": "[encoded data removed]",
            "text/plain": [
              "<Figure size 720x720 with 10 Axes>"
            ]
          },
          "metadata": {
            "tags": []
          }
        }
      ]
    },
    {
      "cell_type": "markdown",
      "metadata": {
        "id": "OVVRIkm9pIPe",
        "colab_type": "text"
      },
      "source": [
        "Get Classifier & SSIM scores and compare against the baseline (78.36 & 75.00, respectively)."
      ]
    },
    {
      "cell_type": "code",
      "metadata": {
        "id": "dYPZgkQNsWIP",
        "colab_type": "code",
        "colab": {}
      },
      "source": [
        "# Clone Git Repo\n",
        "! git clone https://github.com/baudm/ee298z.git"
      ],
      "execution_count": 0,
      "outputs": []
    },
    {
      "cell_type": "code",
      "metadata": {
        "id": "uOPnG4yUcxoj",
        "colab_type": "code",
        "colab": {
          "base_uri": "https://localhost:8080/",
          "height": 50
        },
        "outputId": "6feea6fa-444c-4bbf-93d5-24a4716341bd"
      },
      "source": [
        "# Import\n",
        "from ee298z.hw2.benchmark_keras import test_model\n",
        "\n",
        "# Load MNIST dataset including the labels\n",
        "(x_train, y_train), (x_test, y_test) = mnist.load_data()\n",
        "\n",
        "# Normalize\n",
        "x_test = x_test.astype(K.floatx()) / 255.\n",
        "\n",
        "# Get Classifier \n",
        "test_model(autoencoder, x_test, y_test, batch_size=100)"
      ],
      "execution_count": 14,
      "outputs": [
        {
          "output_type": "stream",
          "text": [
            "Classifier score: 97.08\n",
            "SSIM score: 96.97\n"
          ],
          "name": "stdout"
        }
      ]
    },
    {
      "cell_type": "markdown",
      "metadata": {
        "id": "tR1FGCJ9vBsF",
        "colab_type": "text"
      },
      "source": [
        "Compared to the baseline Classifier & SSIM Scores, the autoencoder was able to achieve higher scores (97.08 & 96.97, respectively).\n",
        "\n",
        "Adjusting/tuning the latent size led to a significant increase in the autoencoder model's Classifier & SSIM Scores. If the latent value is too small, there won’t be enough data for reconstruction. If the value is too large, overfitting can occur. This makes the latent value a crucial hyperparameter for autoencoder models.\n",
        "\n"
      ]
    }
  ]
}